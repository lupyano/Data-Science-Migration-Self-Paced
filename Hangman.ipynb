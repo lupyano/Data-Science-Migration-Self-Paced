{
 "cells": [
  {
   "cell_type": "markdown",
   "metadata": {},
   "source": [
    "#codigo base"
   ]
  },
  {
   "cell_type": "code",
   "execution_count": null,
   "metadata": {},
   "outputs": [],
   "source": [
    "import random"
   ]
  },
  {
   "cell_type": "code",
   "execution_count": null,
   "metadata": {},
   "outputs": [],
   "source": [
    "def random_word():\n",
    "    with open(\"Palavras.txt\", \"rt\") as f:\n",
    "        bank = f.readlines()\n",
    "    return bank[random.randint(0,len(bank)-1)].strip()"
   ]
  },
  {
   "cell_type": "code",
   "execution_count": null,
   "metadata": {},
   "outputs": [],
   "source": [
    "random_word()"
   ]
  },
  {
   "cell_type": "code",
   "execution_count": null,
   "metadata": {},
   "outputs": [],
   "source": [
    "Secret = bank\n",
    "Secret = Secret.upper()\n",
    "hid = []\n",
    "ssecre = []\n",
    "correct = []\n",
    "incorrect=[]\n",
    "con = False"
   ]
  },
  {
   "cell_type": "code",
   "execution_count": null,
   "metadata": {},
   "outputs": [],
   "source": [
    "def hideword():\n",
    "        for i  in Secret:\n",
    "            ssecre.append(i)\n",
    "            hid.append(\"_\")\n",
    "        next"
   ]
  },
  {
   "cell_type": "code",
   "execution_count": null,
   "metadata": {},
   "outputs": [],
   "source": [
    "def guess():\n",
    "    i = 0\n",
    "    letter = input(\"escolha uma letra! \\n\").upper()\n",
    "\n",
    "    if len(letter) == 1:\n",
    "        if letter in (correct or incorrect):\n",
    "            print(\" foi usada! \")        \n",
    "        else:\n",
    "            if letter in ssecre:\n",
    "                print(\"Contains!!\")\n",
    "                for p in ssecre:\n",
    "                    if p == letter:\n",
    "                        hid[i] = p\n",
    "                        if p not in correct:\n",
    "                            correct.append(p)\n",
    "                        i += 1\n",
    "                        next\n",
    "                    else:\n",
    "                        i += 1\n",
    "                        next\n",
    "                gstats()\n",
    "            else:\n",
    "                incorrect.append(letter)\n",
    "                print(\"do not contains\")\n",
    "                gstats()\n",
    "    else:\n",
    "            print (\"one letter only dumfuck!\")\n",
    "\n"
   ]
  },
  {
   "cell_type": "code",
   "execution_count": null,
   "metadata": {},
   "outputs": [],
   "source": [
    "def gstats():\n",
    "    print(\"Here is what we have so far: \\n\\n Word:\")\n",
    "    print(hid)\n",
    "    print(\"Incorrect Letters that you choose: \\n\")\n",
    "    print(incorrect)\n",
    "    print(\"The ones that you nailed it! \\n\")\n",
    "    print(correct)"
   ]
  },
  {
   "cell_type": "code",
   "execution_count": null,
   "metadata": {},
   "outputs": [],
   "source": [
    "class Hangman:\n",
    "    def __init__(self,bank):\n",
    "        self.Secret = bank\n",
    "        self.Secret = Secret.upper()\n",
    "        self.hid = []\n",
    "        self.ssecre = []\n",
    "        self.correct = []\n",
    "        self.incorrect=[]\n",
    "        self.con = False\n",
    "        \n",
    "    def random_word():\n",
    "        with open(\"Palavras.txt\", \"rt\") as f:\n",
    "            bank = f.readlines()\n",
    "        return bank[random.randint(0,len(bank)-1)].strip()\n",
    "    \n",
    "    def hideword():\n",
    "        for i  in Secret:\n",
    "            ssecre.append(i)\n",
    "            hid.append(\"_\")\n",
    "        next\n",
    "        \n",
    "    def guess():\n",
    "        i = 0\n",
    "        letter = input(\"escolha uma letra! \\n\").upper()\n",
    "\n",
    "        if len(letter) == 1:\n",
    "            if letter in (correct or incorrect):\n",
    "                print(\" foi usada! \")        \n",
    "            else:\n",
    "                if letter in ssecre:\n",
    "                    print(\"Contains!!\")\n",
    "                    for p in ssecre:\n",
    "                        if p == letter:\n",
    "                            hid[i] = p\n",
    "                            if p not in correct:\n",
    "                                correct.append(p)\n",
    "                            i += 1\n",
    "                            next\n",
    "                        else:\n",
    "                            i += 1\n",
    "                            next\n",
    "                    gstats()\n",
    "                else:\n",
    "                    incorrect.append(letter)\n",
    "                    print(\"do not contains\")\n",
    "                    gstats()\n",
    "        else:\n",
    "                print (\"one letter only dumfuck!\")\n",
    "    def gstats():\n",
    "        print(\"Here is what we have so far: \\n\\n Word:\")\n",
    "        print(hid)\n",
    "        print(\"Incorrect Letters that you choose: \\n\")\n",
    "        print(incorrect)\n",
    "        print(\"The ones that you nailed it! \\n\")\n",
    "        print(correct)\n",
    "\n",
    "    def __main__():\n",
    "        random_word()\n",
    "        hideword()\n",
    "        guess()\n",
    "        "
   ]
  },
  {
   "cell_type": "code",
   "execution_count": null,
   "metadata": {},
   "outputs": [],
   "source": [
    "Hangman"
   ]
  },
  {
   "cell_type": "code",
   "execution_count": null,
   "metadata": {},
   "outputs": [],
   "source": []
  }
 ],
 "metadata": {
  "kernelspec": {
   "display_name": "Python 3",
   "language": "python",
   "name": "python3"
  },
  "language_info": {
   "codemirror_mode": {
    "name": "ipython",
    "version": 3
   },
   "file_extension": ".py",
   "mimetype": "text/x-python",
   "name": "python",
   "nbconvert_exporter": "python",
   "pygments_lexer": "ipython3",
   "version": "3.8.5"
  }
 },
 "nbformat": 4,
 "nbformat_minor": 4
}
